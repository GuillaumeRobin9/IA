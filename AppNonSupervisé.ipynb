{
 "cells": [
  {
   "cell_type": "code",
   "execution_count": 154,
   "metadata": {},
   "outputs": [],
   "source": [
    "import pandas as pd\n",
    "import numpy as np\n",
    "import matplotlib.pyplot as plt\n",
    "\n",
    "#read csv file\n",
    "data = pd.read_csv('data/stat_acc_V3_cleared.csv', sep=';')\n"
   ]
  },
  {
   "attachments": {},
   "cell_type": "markdown",
   "metadata": {},
   "source": [
    "### Suppression des colonnes inutiles et modificaiton format date"
   ]
  },
  {
   "cell_type": "code",
   "execution_count": 155,
   "metadata": {},
   "outputs": [],
   "source": [
    "#replacer le format date 'YYYYMMDD HH:MM' en format numeric 'YYYYMMDDHHMM'\n",
    "data['date'] = data['date'].str.replace(':','')\n",
    "data['date'] = data['date'].str.replace('-','')\n",
    "data['date'] = data['date'].str.replace(' ','')\n",
    "\n",
    "#convertir la colonne date en numeric\n",
    "data['date'] = pd.to_numeric(data['date'])\n",
    "\n",
    "new_data = data\n",
    "\n",
    "#supression colonne num_veh\n",
    "new_data = new_data.drop('num_veh', axis=1)\n",
    "\n",
    "#drop colonne ville\n",
    "new_data = new_data.drop('ville', axis=1)\n",
    "\n",
    "#drop colonne id_code_insee\n",
    "new_data = new_data.drop('id_code_insee', axis=1)\n",
    "\n",
    "#drop colonne Num_Acc\n",
    "new_data = new_data.drop('Num_Acc', axis=1)\n",
    "\n",
    "#drop colonne id_usa\n",
    "new_data = new_data.drop('id_usa', axis=1)\n"
   ]
  },
  {
   "attachments": {},
   "cell_type": "markdown",
   "metadata": {},
   "source": [
    "### Réduction de dimension"
   ]
  },
  {
   "cell_type": "code",
   "execution_count": 156,
   "metadata": {},
   "outputs": [
    {
     "name": "stdout",
     "output_type": "stream",
     "text": [
      "Attribut 1: an_nais\n",
      "Attribut 2: age\n",
      "\n"
     ]
    }
   ],
   "source": [
    "# Identifier les attributs fortement corrélés\n",
    "\n",
    "# Créer une matrice de corrélation\n",
    "corr_matrix = new_data.corr().abs()\n",
    "\n",
    "# Identifiez les paires d'attributs fortement corrélés\n",
    "threshold = 0.8  # Définissez votre propre seuil de corrélation\n",
    "highly_correlated_pairs = []\n",
    "\n",
    "# Parcourir la matrice de corrélation\n",
    "for i in range(len(corr_matrix.columns)):\n",
    "    for j in range(i+1, len(corr_matrix.columns)):\n",
    "        if abs(corr_matrix.iloc[i, j]) >= threshold:\n",
    "            pair = (corr_matrix.columns[i], corr_matrix.columns[j])\n",
    "            highly_correlated_pairs.append(pair)\n",
    "\n",
    "#verifier les paires d'attributs fortement corrélés\n",
    "# print(highly_correlated_pairs)\n",
    "\n",
    "# Afficher les paires d'attributs fortement corrélés\n",
    "for pair in highly_correlated_pairs:\n",
    "    print(\"Attribut 1:\", pair[0])\n",
    "    print(\"Attribut 2:\", pair[1])\n",
    "\n",
    "    #suppression d'une des deux colonnes fortement corrélées (ici on supprime la colonne 'an_nais' jugée moins pertinente)\n",
    "    new_data = data.drop(pair[0], axis=1)\n",
    "\n",
    "    print()\n"
   ]
  }
 ],
 "metadata": {
  "kernelspec": {
   "display_name": "Python 3",
   "language": "python",
   "name": "python3"
  },
  "language_info": {
   "codemirror_mode": {
    "name": "ipython",
    "version": 3
   },
   "file_extension": ".py",
   "mimetype": "text/x-python",
   "name": "python",
   "nbconvert_exporter": "python",
   "pygments_lexer": "ipython3",
   "version": "3.11.2"
  },
  "orig_nbformat": 4
 },
 "nbformat": 4,
 "nbformat_minor": 2
}
