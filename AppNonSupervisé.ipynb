{
 "cells": [
  {
   "cell_type": "code",
   "execution_count": 35,
   "metadata": {},
   "outputs": [],
   "source": [
    "import pandas as pd\n",
    "\n",
    "#read csv file\n",
    "data = pd.read_csv('data/stat_acc_V3_cleared.csv', sep=';')"
   ]
  },
  {
   "attachments": {},
   "cell_type": "markdown",
   "metadata": {},
   "source": [
    "### Suppression des colonnes inutiles et modificaiton format date"
   ]
  },
  {
   "cell_type": "code",
   "execution_count": null,
   "metadata": {},
   "outputs": [],
   "source": [
    "#supression colonne num_veh\n",
    "data = data.drop('num_veh', axis=1)\n",
    "\n",
    "#drop colonne ville\n",
    "data = data.drop('ville', axis=1)\n",
    "\n",
    "#drop colonne id_code_insee\n",
    "data = data.drop('id_code_insee', axis=1)\n",
    "\n",
    "#drop colonne Num_Acc\n",
    "data = data.drop('Num_Acc', axis=1)\n",
    "\n",
    "#drop colonne id_usa\n",
    "data = data.drop('id_usa', axis=1)\n",
    "\n",
    "#replacer le format date 'YYYYMMDD HH:MM' en format numeric 'YYYYMMDDHHMM'\n",
    "data['date'] = data['date'].str.replace(':','')\n",
    "data['date'] = data['date'].str.replace('-','')\n",
    "data['date'] = data['date'].str.replace(' ','')\n",
    "\n",
    "#convertir la colonne date en numeric\n",
    "data['date'] = pd.to_numeric(data['date'])\n"
   ]
  },
  {
   "attachments": {},
   "cell_type": "markdown",
   "metadata": {},
   "source": [
    "### Réduction de dimension"
   ]
  },
  {
   "cell_type": "code",
   "execution_count": 36,
   "metadata": {},
   "outputs": [],
   "source": [
    "#Recherche corrélations entre les attributs\n",
    "\n",
    "#matrice de corrélation\n",
    "corr = data.corr()\n"
   ]
  }
 ],
 "metadata": {
  "kernelspec": {
   "display_name": "Python 3",
   "language": "python",
   "name": "python3"
  },
  "language_info": {
   "codemirror_mode": {
    "name": "ipython",
    "version": 3
   },
   "file_extension": ".py",
   "mimetype": "text/x-python",
   "name": "python",
   "nbconvert_exporter": "python",
   "pygments_lexer": "ipython3",
   "version": "3.11.2"
  },
  "orig_nbformat": 4
 },
 "nbformat": 4,
 "nbformat_minor": 2
}
