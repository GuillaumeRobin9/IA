{
 "cells": [
  {
   "cell_type": "code",
   "execution_count": 178,
   "metadata": {},
   "outputs": [],
   "source": [
    "#nettoyage variables\n",
    "%reset"
   ]
  },
  {
   "cell_type": "code",
   "execution_count": 179,
   "metadata": {},
   "outputs": [],
   "source": [
    "import pandas as pd\n",
    "import numpy as np\n",
    "import matplotlib.pyplot as plt\n",
    "\n",
    "#read csv file\n",
    "data = pd.read_csv('data/stat_acc_V3_cleared.csv', sep=';')\n"
   ]
  },
  {
   "cell_type": "code",
   "execution_count": 180,
   "metadata": {},
   "outputs": [],
   "source": [
    "#replacer le format date 'YYYYMMDD HH:MM' en format numeric 'YYYYMMDDHHMM'\n",
    "data['date'] = data['date'].str.replace(':','')\n",
    "data['date'] = data['date'].str.replace('-','')\n",
    "data['date'] = data['date'].str.replace(' ','')\n",
    "\n",
    "#convertir la colonne date en numeric\n",
    "data['date'] = pd.to_numeric(data['date'])\n",
    "\n",
    "new_data = data\n",
    "\n",
    "#supression colonne num_veh\n",
    "new_data = new_data.drop('num_veh', axis=1)\n",
    "\n",
    "#drop colonne ville\n",
    "new_data = new_data.drop('ville', axis=1)\n",
    "\n",
    "#drop colonne id_code_insee\n",
    "new_data = new_data.drop('id_code_insee', axis=1)\n",
    "\n",
    "#drop colonne Num_Acc\n",
    "new_data = new_data.drop('Num_Acc', axis=1)\n",
    "\n",
    "#drop colonne id_usa\n",
    "data = data.drop('id_usa', axis=1)"
   ]
  },
  {
   "cell_type": "code",
   "execution_count": 181,
   "metadata": {},
   "outputs": [
    {
     "name": "stdout",
     "output_type": "stream",
     "text": [
      "Attribut 1: an_nais\n",
      "Attribut 2: age\n",
      "\n",
      "Nombre de colonnes avant suppression:  20\n",
      "Nombre de colonnes après suppression:  16\n",
      "Pourcentage de réduction:  20.0 %\n"
     ]
    }
   ],
   "source": [
    "# Identifier les attributs fortement corrélés\n",
    "\n",
    "# Créer une matrice de corrélation\n",
    "corr_matrix = new_data.corr().abs()\n",
    "\n",
    "# Identifiez les paires d'attributs fortement corrélés\n",
    "threshold = 0.8  # Définissez votre propre seuil de corrélation\n",
    "highly_correlated_pairs = []\n",
    "\n",
    "# Parcourir la matrice de corrélation\n",
    "for i in range(len(corr_matrix.columns)):\n",
    "    for j in range(i+1, len(corr_matrix.columns)):\n",
    "        if abs(corr_matrix.iloc[i, j]) >= threshold:\n",
    "            pair = (corr_matrix.columns[i], corr_matrix.columns[j])\n",
    "            highly_correlated_pairs.append(pair)\n",
    "\n",
    "#verifier les paires d'attributs fortement corrélés\n",
    "# print(highly_correlated_pairs)\n",
    "\n",
    "# Afficher les paires d'attributs fortement corrélés\n",
    "for pair in highly_correlated_pairs:\n",
    "    print(\"Attribut 1:\", pair[0])\n",
    "    print(\"Attribut 2:\", pair[1])\n",
    "\n",
    "    #suppression d'une des deux colonnes fortement corrélées (ici on supprime la colonne 'an_nais' jugée moins pertinente)\n",
    "    new_data = new_data.drop(pair[0], axis=1)\n",
    "\n",
    "    print()\n",
    "\n",
    "#obtenir le nombre de colonnes avant et après suppression\n",
    "print(\"Nombre de colonnes avant suppression: \", len(data.columns))\n",
    "print(\"Nombre de colonnes après suppression: \", len(new_data.columns))\n",
    "\n",
    "#print pourcentage de réduction\n",
    "print(\"Pourcentage de réduction: \", round((len(data.columns) - len(new_data.columns)) / len(data.columns) * 100, 2), \"%\")"
   ]
  },
  {
   "attachments": {},
   "cell_type": "markdown",
   "metadata": {},
   "source": [
    "clustering avec sklearn "
   ]
  },
  {
   "cell_type": "code",
   "execution_count": 182,
   "metadata": {},
   "outputs": [
    {
     "name": "stdout",
     "output_type": "stream",
     "text": [
      "cluster_labels\n",
      "4    32418\n",
      "0    24409\n",
      "3    16053\n",
      "1      502\n",
      "2      258\n",
      "Name: count, dtype: int64\n"
     ]
    },
    {
     "data": {
      "image/png": "[encoded data removed]",
      "text/plain": [
       "<Figure size 640x480 with 1 Axes>"
      ]
     },
     "metadata": {},
     "output_type": "display_data"
    }
   ],
   "source": [
    "# https://scikit-learn.org/stable/modules/generated/sklearn.cluster.KMeans.html\n",
    "\n",
    "from sklearn.cluster import KMeans\n",
    "coordinates = data[['latitude', 'longitude']]\n",
    "# for make cluster variable\n",
    "# Plus le n augmente plus on gagne en précision sur latitude et longitude en séparant des régions \n",
    "n = 5 # 5 semble adéquat pour avoir DOM TOM + séparation nord sud centre France\n",
    "kmeans = KMeans(n_clusters=n, random_state=0, n_init=\"auto\").fit(coordinates)\n",
    "labels = kmeans.labels_\n",
    "data['cluster_labels'] = labels # get label from dataframe\n",
    "print(data['cluster_labels'].value_counts())\n",
    "\n",
    "# Centroide \n",
    "centroids = kmeans.cluster_centers_\n",
    "\n",
    "# graphiques de visualisation des clusters, avec les attributs latitude et longitude + centroide\n",
    "plt.scatter(data['latitude'], data['longitude'], c=data['cluster_labels'], s=50, cmap='viridis')\n",
    "plt.scatter(centroids[:, 0], centroids[:, 1], c='red', marker='x', s=100)\n",
    "plt.show()\n",
    "\n"
   ]
  },
  {
   "attachments": {},
   "cell_type": "markdown",
   "metadata": {},
   "source": [
    "clustering en scratch "
   ]
  },
  {
   "attachments": {},
   "cell_type": "markdown",
   "metadata": {},
   "source": [
    "\n"
   ]
  }
 ],
 "metadata": {
  "kernelspec": {
   "display_name": "Python 3",
   "language": "python",
   "name": "python3"
  },
  "language_info": {
   "codemirror_mode": {
    "name": "ipython",
    "version": 3
   },
   "file_extension": ".py",
   "mimetype": "text/x-python",
   "name": "python",
   "nbconvert_exporter": "python",
   "pygments_lexer": "ipython3",
   "version": "3.10.4"
  },
  "orig_nbformat": 4
 },
 "nbformat": 4,
 "nbformat_minor": 2
}
