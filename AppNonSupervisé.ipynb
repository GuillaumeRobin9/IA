{
 "cells": [
  {
   "cell_type": "code",
   "execution_count": 1,
   "metadata": {},
   "outputs": [],
   "source": [
    "#nettoyage variables\n",
    "%reset"
   ]
  },
  {
   "cell_type": "code",
   "execution_count": 2,
   "metadata": {},
   "outputs": [],
   "source": [
    "import pandas as pd\n",
    "import numpy as np\n",
    "import matplotlib.pyplot as plt\n",
    "\n",
    "#read csv file\n",
<<<<<<< HEAD
    "data = pd.read_csv('data/stat_acc_V3_cleared.csv', sep=';')\n"
   ]
  },
  {
   "cell_type": "code",
   "execution_count": 3,
   "metadata": {},
   "outputs": [],
   "source": [
    "#replacer le format date 'YYYYMMDD HH:MM' en format numeric 'YYYYMMDDHHMM'\n",
    "data['date'] = data['date'].str.replace(':','')\n",
    "data['date'] = data['date'].str.replace('-','')\n",
    "data['date'] = data['date'].str.replace(' ','')\n",
    "\n",
    "#convertir la colonne date en numeric\n",
    "data['date'] = pd.to_numeric(data['date'])\n",
    "\n",
    "new_data = data\n",
    "\n",
    "#supression colonne num_veh\n",
    "new_data = new_data.drop('num_veh', axis=1)\n",
    "\n",
    "#drop colonne ville\n",
    "new_data = new_data.drop('ville', axis=1)\n",
    "\n",
    "#drop colonne id_code_insee\n",
    "new_data = new_data.drop('id_code_insee', axis=1)\n",
    "\n",
    "#drop colonne Num_Acc\n",
    "new_data = new_data.drop('Num_Acc', axis=1)\n",
    "\n",
    "#drop colonne id_usa\n",
    "data = data.drop('id_usa', axis=1)"
=======
    "data = pd.read_csv('data/stat_acc_V3_new.csv', sep=';')\n"
>>>>>>> 52a59bbe44434102c2b9f1adde90b726394bd223
   ]
  },
  {
   "cell_type": "code",
   "execution_count": 4,
   "metadata": {},
   "outputs": [
    {
     "name": "stdout",
     "output_type": "stream",
     "text": [
      "Attribut 1: an_nais\n",
      "Attribut 2: age\n",
      "\n",
      "Nombre de colonnes avant suppression:  20\n",
      "Nombre de colonnes après suppression:  16\n",
      "Pourcentage de réduction:  20.0 %\n"
     ]
    }
   ],
   "source": [
    "# Identifier les attributs fortement corrélés\n",
    "\n",
    "# Créer une matrice de corrélation\n",
    "corr_matrix = new_data.corr().abs()\n",
    "\n",
    "# Identifiez les paires d'attributs fortement corrélés\n",
    "threshold = 0.8  # Définissez votre propre seuil de corrélation\n",
    "highly_correlated_pairs = []\n",
    "\n",
    "# Parcourir la matrice de corrélation\n",
    "for i in range(len(corr_matrix.columns)):\n",
    "    for j in range(i+1, len(corr_matrix.columns)):\n",
    "        if abs(corr_matrix.iloc[i, j]) >= threshold:\n",
    "            pair = (corr_matrix.columns[i], corr_matrix.columns[j])\n",
    "            highly_correlated_pairs.append(pair)\n",
    "\n",
    "#verifier les paires d'attributs fortement corrélés\n",
    "# print(highly_correlated_pairs)\n",
    "\n",
    "# Afficher les paires d'attributs fortement corrélés\n",
    "for pair in highly_correlated_pairs:\n",
    "    print(\"Attribut 1:\", pair[0])\n",
    "    print(\"Attribut 2:\", pair[1])\n",
    "\n",
    "    #suppression d'une des deux colonnes fortement corrélées (ici on supprime la colonne 'an_nais' jugée moins pertinente)\n",
    "    new_data = new_data.drop(pair[0], axis=1)\n",
    "\n",
    "    print()\n",
    "\n",
    "#obtenir le nombre de colonnes avant et après suppression\n",
    "print(\"Nombre de colonnes avant suppression: \", len(data.columns))\n",
    "print(\"Nombre de colonnes après suppression: \", len(new_data.columns))\n",
    "\n",
    "#print pourcentage de réduction\n",
    "print(\"Pourcentage de réduction: \", round((len(data.columns) - len(new_data.columns)) / len(data.columns) * 100, 2), \"%\")"
   ]
  },
  {
   "attachments": {},
   "cell_type": "markdown",
   "metadata": {},
   "source": [
    "### Clustering avec sklearn "
   ]
  },
  {
   "cell_type": "code",
   "execution_count": 5,
   "metadata": {},
   "outputs": [
    {
     "name": "stdout",
     "output_type": "stream",
     "text": [
      "4    32418\n",
      "0    24409\n",
      "3    16053\n",
      "1      502\n",
      "2      258\n",
      "Name: cluster_labels, dtype: int64\n"
     ]
    }
   ],
   "source": [
    "# https://scikit-learn.org/stable/modules/generated/sklearn.cluster.KMeans.html\n",
    "# https://www.kaggle.com/code/lucaspcarlini/clustering-and-visualisation-using-folium-maps\n",
    "from sklearn.cluster import KMeans\n",
    "coordinates = data[['latitude', 'longitude']]\n",
    "# for make cluster variable\n",
    "# Plus le n augmente plus on gagne en précision sur latitude et longitude en séparant des régions \n",
    "n = 5 # 5 semble adéquat pour avoir DOM TOM + séparation nord sud centre France\n",
    "kmeans = KMeans(n_clusters=n, random_state=0, n_init=\"auto\").fit(coordinates)\n",
    "\n",
    "labels = kmeans.labels_\n",
    "new_data['cluster_labels'] = labels # get label from dataframe\n",
    "print(new_data['cluster_labels'].value_counts())\n",
    "\n",
    "#preds = kmeans.fit_predict(new_data)\n",
    "\n",
    "\n",
    "# Centroide \n",
    "centroids = kmeans.cluster_centers_\n",
    "\n",
    "# graphiques de visualisation des clusters, avec les attributs latitude et longitude + centroide\n",
    "plt.scatter(new_data['latitude'], new_data['longitude'], c=new_data['cluster_labels'], s=50, cmap='viridis')\n",
    "plt.scatter(centroids[:, 0], centroids[:, 1], c='red', marker='x', s=100)\n",
    "plt.show()\n",
    "\n",
    "preds = kmeans.fit_predict(new_data)\n",
    "\n",
    "from sklearn.metrics import silhouette_score\n",
    "\n",
    "# X représente vos données d'entrée\n",
    "# labels représente les étiquettes de cluster attribuées par k-means\n",
    "\n",
    "silhouette_avg = silhouette_score(new_data, preds)\n",
    "print(\"Silhouette Coefficient :\", silhouette_avg)\n",
    "\n",
    "from sklearn.metrics import calinski_harabasz_score\n",
    "\n",
    "# X représente vos données d'entrée\n",
    "# labels représente les étiquettes de cluster attribuées par k-means\n",
    "\n",
    "ch_score = calinski_harabasz_score(new_data, preds)\n",
    "print(\"Calinski-Harabasz Index :\", ch_score)\n",
    "\n",
    "from sklearn.metrics import davies_bouldin_score\n",
    "\n",
    "# X représente vos données d'entrée\n",
    "# labels représente les étiquettes de cluster attribuées par k-means\n",
    "\n",
    "db_score = davies_bouldin_score(new_data, preds)\n",
    "print(\"Davies-Bouldin Index :\", db_score)\n"
   ]
  },
  {
   "attachments": {},
   "cell_type": "markdown",
   "metadata": {},
   "source": [
<<<<<<< HEAD
    "clustering en scratch"
   ]
  },
  {
   "attachments": {},
   "cell_type": "markdown",
   "metadata": {},
   "source": [
    "Silhouette Coefficient entre -1 et 1 plus on est proche de 1 plus on est précis \n",
    "davies_bouldin entre 0 et + inf plus on est proche de 0 mieux c'est \n",
    " calinski_harabas entre 0 et + inf plus on est proche de inf mieux c'est "
=======
    "### Clustering en scratch avec Haversine"
>>>>>>> 52a59bbe44434102c2b9f1adde90b726394bd223
   ]
  },
  {
   "cell_type": "code",
   "execution_count": null,
   "metadata": {},
   "outputs": [
    {
     "name": "stdout",
     "output_type": "stream",
     "text": [
      "3.0    36692\n",
      "0.0    19503\n",
      "2.0    16685\n",
      "4.0      502\n",
      "1.0      258\n",
      "Name: cluster_labels, dtype: int64\n"
     ]
    },
    {
     "data": {
      "image/png": "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",
      "text/plain": [
       "<Figure size 640x480 with 1 Axes>"
      ]
     },
     "metadata": {},
     "output_type": "display_data"
    },
    {
     "name": "stdout",
     "output_type": "stream",
     "text": [
      "Silhouette Coefficient: 0.4981561259139533\n",
      "Calinski-Harabasz Index : 305951.7052225973\n",
      "Davies-Bouldin Index : 0.47088407452194414\n"
     ]
    }
   ],
   "source": [
    "import math\n",
    "import numpy as np\n",
    "import matplotlib.pyplot as plt\n",
    "\n",
    "# Dist Manhattan\n",
    "def distL1(lat1, lon1, lat2, lon2):\n",
    "    return abs(lat2 - lat1) + abs(lon2 - lon1)\n",
    "\n",
    "# Dist euclidienne\n",
    "def distL2(lat1, lon1, lat2, lon2):\n",
    "    return math.sqrt((lat2 - lat1)**2 + (lon2 - lon1)**2)\n",
    "\n",
    "# Dist Haversine (distance entre 2 pts sur la Terre)\n",
    "def distHaversine(lat1, lon1, lat2, lon2):\n",
    "    radius = 6371  # Rayon de la Terre en kilomètres\n",
    "    dlat = math.radians(lat2 - lat1)    # distance btw 2 pts en radians\n",
    "    dlon = math.radians(lon2 - lon1)\n",
    "    a = math.sin(dlat / 2) * math.sin(dlat / 2) + math.cos(math.radians(lat1)) \\\n",
    "        * math.cos(math.radians(lat2)) * math.sin(dlon / 2) * math.sin(dlon / 2)\n",
    "    c = 2 * math.atan2(math.sqrt(a), math.sqrt(1 - a))\n",
    "    d = radius * c\n",
    "    return d\n",
    "\n",
    "def kmeans_clustering(new_data, n_clusters, max_iterations=100):\n",
    "    np.random.seed(0)\n",
    "    centroids = new_data[np.random.choice(range(len(new_data)), size=n_clusters, replace=False)]\n",
    "    \n",
    "    for _ in range(max_iterations):\n",
    "        labels = np.zeros(len(new_data)) # Init labels pour chaque point\n",
    "         # Assignation des points aux clusters les plus proches\n",
    "        for i, point in enumerate(new_data):\n",
    "            min_distance = float('inf')\n",
    "            for j, centroid in enumerate(centroids):\n",
    "                dist = distL1(point[0], point[1], centroid[0], centroid[1]) # Manhattan distance\n",
    "                #dist = distL2(point[0], point[1], centroid[0], centroid[1])# euclienean distance\n",
    "                #dist = distHaversine(point[0], point[1], centroid[0], centroid[1]) # dist btw point and centroid\n",
    "                if dist < min_distance:\n",
    "                    min_distance = dist\n",
    "                    labels[i] = j  # Attribution du label du cluster au point\n",
    "        # Update centroids \n",
    "        new_centroids = np.zeros_like(centroids) # Calcul des nouveaux centroids en prenant la moyenne des points dans chaque cluster\n",
    "        cluster_counts = np.zeros(n_clusters)\n",
    "        for i in range(len(new_data)):\n",
    "            cluster_index = int(labels[i])\n",
    "            new_centroids[cluster_index] += new_data[i] # add coord point to cluster\n",
    "            cluster_counts[cluster_index] += 1 # Count  nb point in each cluster\n",
    "        for j in range(n_clusters):\n",
    "            if cluster_counts[j] > 0: # if cluster not empty to avoid div by 0 \n",
    "                    new_centroids[j] = np.divide(new_centroids[j], cluster_counts[j]) # average of point coord to get new centroid by dividing by nb point in cluster\n",
    "        \n",
    "        if np.allclose(centroids, new_centroids): # compare if old and new centroids are enough close if yes stop all\n",
    "            break\n",
    "        \n",
    "        centroids = new_centroids # update centroide \n",
    "    \n",
    "    return labels, centroids\n",
    "\n",
    "coordinates = new_data[['latitude', 'longitude']].values\n",
    "n_clusters = 5\n",
    "\n",
    "predicted_labels, cluster_centroids = kmeans_clustering(coordinates, n_clusters)\n",
    "\n",
    "new_data['cluster_labels'] = predicted_labels\n",
    "print(new_data['cluster_labels'].value_counts())\n",
    "\n",
    "plt.scatter(new_data['latitude'], new_data['longitude'], c=new_data['cluster_labels'], s=50, cmap='viridis')\n",
    "plt.scatter(cluster_centroids[:, 0], cluster_centroids[:, 1], c='red', marker='x', s=100)\n",
    "plt.show()\n",
    "\n",
    "# Calcul du coefficient de silhouette\n",
    "from sklearn.metrics import silhouette_score\n",
    "silhouette_avg = silhouette_score(coordinates, predicted_labels)\n",
    "print(\"Silhouette Coefficient:\", silhouette_avg)\n",
    "\n",
    "# Calcul de l'indice de Calinski-Harabasz\n",
    "from sklearn.metrics import calinski_harabasz_score\n",
    "ch_score = calinski_harabasz_score(coordinates, predicted_labels)\n",
    "print(\"Calinski-Harabasz Index :\", ch_score)\n",
    "\n",
    "# Calcul de l'indice de Davies-Bouldin\n",
    "from sklearn.metrics import davies_bouldin_score\n",
    "db_score = davies_bouldin_score(coordinates, predicted_labels)\n",
    "print(\"Davies-Bouldin Index :\", db_score)\n"
   ]
  },
  {
   "cell_type": "code",
   "execution_count": null,
   "metadata": {},
   "outputs": [
    {
     "ename": "NameError",
     "evalue": "name 'new_data' is not defined",
     "output_type": "error",
     "traceback": [
      "\u001b[1;31m---------------------------------------------------------------------------\u001b[0m",
      "\u001b[1;31mNameError\u001b[0m                                 Traceback (most recent call last)",
      "Cell \u001b[1;32mIn[2], line 61\u001b[0m\n\u001b[0;32m     57\u001b[0m         centroids \u001b[39m=\u001b[39m new_centroids \u001b[39m# update centroide \u001b[39;00m\n\u001b[0;32m     59\u001b[0m     \u001b[39mreturn\u001b[39;00m labels, centroids\n\u001b[1;32m---> 61\u001b[0m coordinates \u001b[39m=\u001b[39m new_data[[\u001b[39m'\u001b[39m\u001b[39mlatitude\u001b[39m\u001b[39m'\u001b[39m, \u001b[39m'\u001b[39m\u001b[39mlongitude\u001b[39m\u001b[39m'\u001b[39m]]\u001b[39m.\u001b[39mvalues\n\u001b[0;32m     62\u001b[0m n_clusters \u001b[39m=\u001b[39m \u001b[39m5\u001b[39m\n\u001b[0;32m     64\u001b[0m predicted_labels, cluster_centroids \u001b[39m=\u001b[39m kmeans_clustering(coordinates, n_clusters)\n",
      "\u001b[1;31mNameError\u001b[0m: name 'new_data' is not defined"
     ]
    }
   ],
   "source": []
  }
 ],
 "metadata": {
  "kernelspec": {
   "display_name": "Python 3",
   "language": "python",
   "name": "python3"
  },
  "language_info": {
   "codemirror_mode": {
    "name": "ipython",
    "version": 3
   },
   "file_extension": ".py",
   "mimetype": "text/x-python",
   "name": "python",
   "nbconvert_exporter": "python",
   "pygments_lexer": "ipython3",
   "version": "3.11.2"
  },
  "orig_nbformat": 4
 },
 "nbformat": 4,
 "nbformat_minor": 2
}
