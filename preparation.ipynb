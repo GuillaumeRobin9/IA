{
 "cells": [
  {
   "cell_type": "code",
   "execution_count": 2,
   "metadata": {},
   "outputs": [],
   "source": [
    "#efface les variables\n",
    "%reset"
   ]
  },
  {
   "attachments": {},
   "cell_type": "markdown",
   "metadata": {},
   "source": [
    "### Préparationn des données"
   ]
  },
  {
   "cell_type": "code",
   "execution_count": 4,
   "metadata": {},
   "outputs": [],
   "source": [
    "import pandas as pd\n",
    "\n",
    "#lecture du fichier csv\n",
    "data = pd.read_csv('data/stat_acc_V3_cleared.csv', sep=';')\n",
    "\n",
    "\n",
    "#fonction de nettoyage des variables\n",
    "def prepa_data(data):\n",
    "    #replacer le format date 'YYYYMMDD HH:MM' en format numeric 'YYYYMMDDHHMM'\n",
    "    data['date'] = data['date'].str.replace(':','')\n",
    "    data['date'] = data['date'].str.replace('-','')\n",
    "    data['date'] = data['date'].str.replace(' ','')\n",
    "\n",
    "    #convertir la colonne date en numeric\n",
    "    data['date'] = pd.to_numeric(data['date'])\n",
    "\n",
    "    new_data = data\n",
    "\n",
    "    #supression colonne num_veh\n",
    "    new_data = new_data.drop('num_veh', axis=1)\n",
    "\n",
    "    #drop colonne ville\n",
    "    new_data = new_data.drop('ville', axis=1)\n",
    "\n",
    "    #drop colonne id_code_insee\n",
    "    new_data = new_data.drop('id_code_insee', axis=1)\n",
    "\n",
    "    #drop colonne Num_Acc\n",
    "    new_data = new_data.drop('Num_Acc', axis=1)\n",
    "\n",
    "    #drop colonne id_usa\n",
    "    data = data.drop('id_usa', axis=1)\n",
    "\n",
    "    return new_data\n",
    "\n",
    "\n",
    "\n",
    "new_data = prepa_data(data)\n",
    "\n",
    "#export du fichier csv\n",
    "new_data.to_csv('data/stat_acc_V3_new.csv', sep=';', index=False)"
   ]
  }
 ],
 "metadata": {
  "kernelspec": {
   "display_name": "Python 3",
   "language": "python",
   "name": "python3"
  },
  "language_info": {
   "codemirror_mode": {
    "name": "ipython",
    "version": 3
   },
   "file_extension": ".py",
   "mimetype": "text/x-python",
   "name": "python",
   "nbconvert_exporter": "python",
   "pygments_lexer": "ipython3",
   "version": "3.11.2"
  },
  "orig_nbformat": 4
 },
 "nbformat": 4,
 "nbformat_minor": 2
}
