{
 "cells": [
  {
   "cell_type": "code",
   "execution_count": 2,
   "metadata": {},
   "outputs": [],
   "source": [
    "import pandas as pd\n",
    "from sklearn.svm import SVC\n",
    "from sklearn.ensemble import RandomForestClassifier\n",
    "from sklearn.neural_network import MLPClassifier\n",
    "from sklearn.model_selection import GridSearchCV\n",
    "from sklearn.ensemble import VotingClassifier\n",
    "import joblib\n",
    "\n",
    "from sklearn.model_selection import train_test_split\n",
    "from sklearn.neighbors import KNeighborsClassifier\n",
    "from sklearn.metrics import accuracy_score\n",
    "\n",
    "\n",
    "#read the csv file\n",
    "df = pd.read_csv('data/stat_acc_V3_new.csv', sep=';')\n"
   ]
  },
  {
   "attachments": {},
   "cell_type": "markdown",
   "metadata": {},
   "source": [
    "### Répartition des données/apprentissage/test"
   ]
  },
  {
   "cell_type": "code",
   "execution_count": 3,
   "metadata": {},
   "outputs": [],
   "source": [
    "# Séparation de la base de donnée en base de test et d'apprentissage\n",
    "train_set, test_set = train_test_split(df, test_size=0.2, random_state=42)\n",
    "\n",
    "#initialisation des variables X et Y (à modifier avec les jeux de données d'apprentissage)\n",
    "X = train_set.drop(['descr_grav'], axis=1)\n",
    "Y = train_set['descr_grav']"
   ]
  },
  {
   "attachments": {},
   "cell_type": "markdown",
   "metadata": {},
   "source": [
    "#### Holdout Répartition"
   ]
  },
  {
   "cell_type": "code",
   "execution_count": 4,
   "metadata": {},
   "outputs": [
    {
     "name": "stdout",
     "output_type": "stream",
     "text": [
      "Accuracy: 0.36722396673173213\n",
      "Accuracy: 0.37053381991003986\n",
      "Accuracy: 0.35984044810319954\n",
      "Accuracy: 0.36306543325129426\n",
      "Accuracy: 0.3610286005261818\n"
     ]
    }
   ],
   "source": [
    "# Répétition 5 fois de holdout split avec prédiction et évaluation\n",
    "for i in range(5):\n",
    "    # Division des données en ensembles d'apprentissage et de tests\n",
    "    X_train, X_test, y_train, y_test = train_test_split(X, Y, test_size=0.2, random_state=i)\n",
    "    \n",
    "    # Création du modèle KNN\n",
    "    knn = KNeighborsClassifier(n_neighbors=5)\n",
    "    \n",
    "    # Apprentissage du modèle KNN\n",
    "    knn.fit(X_train, y_train)\n",
    "    \n",
    "    # Prédiction des données de test\n",
    "    y_pred = knn.predict(X_test)\n",
    "    \n",
    "    # Evaluation de la prédiction\n",
    "    accuracy = accuracy_score(y_test, y_pred)\n",
    "    print(\"Accuracy:\", accuracy)\n"
   ]
  },
  {
   "attachments": {},
   "cell_type": "markdown",
   "metadata": {},
   "source": [
    "#### Leave One out Répartition"
   ]
  },
  {
   "cell_type": "code",
   "execution_count": 11,
   "metadata": {},
   "outputs": [
    {
     "name": "stdout",
     "output_type": "stream",
     "text": [
      "Accuracy: 0.0\n",
      "Accuracy: 1.0\n",
      "Accuracy: 0.0\n",
      "Accuracy: 0.0\n",
      "Accuracy: 0.0\n",
      "Accuracy: 1.0\n",
      "Accuracy: 0.0\n",
      "Accuracy: 0.0\n",
      "Accuracy: 0.0\n",
      "Accuracy: 0.0\n",
      "Accuracy: 1.0\n",
      "Accuracy: 0.0\n",
      "Accuracy: 0.0\n",
      "Accuracy: 0.0\n",
      "Accuracy: 0.0\n",
      "Accuracy: 0.0\n",
      "Accuracy: 0.0\n",
      "Accuracy: 0.0\n",
      "Accuracy: 0.0\n",
      "Accuracy: 0.0\n",
      "Accuracy: 0.0\n",
      "Accuracy: 1.0\n",
      "Accuracy: 0.0\n",
      "Accuracy: 0.0\n",
      "Accuracy: 0.0\n",
      "Accuracy: 0.0\n",
      "Accuracy: 0.0\n",
      "Accuracy: 0.0\n",
      "Accuracy: 1.0\n",
      "Accuracy: 0.0\n",
      "Accuracy: 0.0\n",
      "Accuracy: 0.0\n",
      "Accuracy: 0.0\n",
      "Accuracy: 0.0\n",
      "Accuracy: 1.0\n",
      "Accuracy: 0.0\n",
      "Accuracy: 1.0\n",
      "Accuracy: 1.0\n",
      "Accuracy: 0.0\n",
      "Accuracy: 0.0\n",
      "Accuracy: 0.0\n",
      "Accuracy: 0.0\n",
      "Accuracy: 1.0\n",
      "Accuracy: 0.0\n",
      "Accuracy: 0.0\n",
      "Accuracy: 0.0\n",
      "Accuracy: 0.0\n",
      "Accuracy: 0.0\n",
      "Accuracy: 1.0\n",
      "Accuracy: 0.0\n",
      "Accuracy: 0.0\n",
      "Accuracy: 1.0\n",
      "Accuracy: 1.0\n",
      "Accuracy: 0.0\n",
      "Accuracy: 0.0\n",
      "Accuracy: 0.0\n",
      "Accuracy: 0.0\n",
      "Accuracy: 0.0\n",
      "Accuracy: 0.0\n",
      "Accuracy: 0.0\n",
      "Accuracy: 1.0\n",
      "Accuracy: 0.0\n",
      "Accuracy: 1.0\n",
      "Accuracy: 1.0\n",
      "Accuracy: 0.0\n",
      "Accuracy: 0.0\n",
      "Accuracy: 1.0\n",
      "Accuracy: 1.0\n",
      "Accuracy: 0.0\n",
      "Accuracy: 1.0\n",
      "Accuracy: 0.0\n",
      "Accuracy: 0.0\n",
      "Accuracy: 1.0\n",
      "Accuracy: 0.0\n",
      "Accuracy: 1.0\n",
      "Accuracy: 0.0\n",
      "Accuracy: 0.0\n",
      "Accuracy: 0.0\n",
      "Accuracy: 1.0\n",
      "Accuracy: 0.0\n",
      "Accuracy: 0.0\n",
      "Accuracy: 0.0\n",
      "Accuracy: 1.0\n",
      "Accuracy: 0.0\n",
      "Accuracy: 1.0\n",
      "Accuracy: 1.0\n",
      "Accuracy: 1.0\n",
      "Accuracy: 1.0\n",
      "Accuracy: 1.0\n",
      "Accuracy: 0.0\n",
      "Accuracy: 0.0\n",
      "Accuracy: 1.0\n",
      "Accuracy: 0.0\n",
      "Accuracy: 0.0\n",
      "Accuracy: 0.0\n",
      "Accuracy: 1.0\n",
      "Accuracy: 1.0\n",
      "Accuracy: 1.0\n",
      "Accuracy: 0.0\n"
     ]
    }
   ],
   "source": [
    "from sklearn.model_selection import LeaveOneOut\n",
    "\n",
    "# Création de l'objet leave one out\n",
    "loo = LeaveOneOut()\n",
    "\n",
    "# Création du compteur\n",
    "count = 0\n",
    "\n",
    "# Execution de leave one out\n",
    "for train_index, test_index in loo.split(X):\n",
    "    # Sortie du programme\n",
    "    count += 1  \n",
    "    if count >= 100:\n",
    "        break \n",
    "    \n",
    "    # Répartition \n",
    "    #print(\"%s %s\" % (train_index, test_index))\n",
    "    X_train, X_test = X.iloc[train_index], X.iloc[test_index]\n",
    "    y_train, y_test = Y.iloc[train_index], Y.iloc[test_index]\n",
    "    \n",
    "    # Apprentissage du modèle KNN\n",
    "    knn.fit(X_train, y_train)\n",
    "    \n",
    "    # Prédiction des données de test\n",
    "    y_pred = knn.predict(X_test)\n",
    "    \n",
    "    # Evaluation de la prédiction\n",
    "    accuracy = accuracy_score(y_test, y_pred)\n",
    "    print(\"Accuracy:\", accuracy)"
   ]
  },
  {
   "attachments": {},
   "cell_type": "markdown",
   "metadata": {},
   "source": [
    "### Classification avec SVM"
   ]
  },
  {
   "cell_type": "code",
   "execution_count": null,
   "metadata": {},
   "outputs": [],
   "source": [
    "def SVM_class(X,Y,old_model=None):\n",
    "    #création d'un classifieur SVM\n",
    "    svm = SVC()\n",
    "    svm_params = {'kernel':('linear', 'rbf'), 'C':[1, 10]}\n",
    "    svm_grid = GridSearchCV(svm, svm_params, cv=5)\n",
    "    svm_grid.fit(X, Y)\n",
    "    best_svm = svm_grid.best_estimator_\n",
    "\n",
    "    #enregistrement du modèle avec les meilleurs paramètres\n",
    "    #comparaison avec l'ancien modèle pour ne pas le remplacer si moins performant\n",
    "    if old_model == None:\n",
    "        joblib.dump(best_svm, 'models/svm_model.pkl')\n",
    "    else:\n",
    "        if old_model.score(X,Y) < best_svm.score(X,Y):\n",
    "            joblib.dump(best_svm, 'models/svm_model.pkl')\n",
    "\n",
    "    return best_svm\n"
   ]
  },
  {
   "attachments": {},
   "cell_type": "markdown",
   "metadata": {},
   "source": [
    "### Classification avec Random Forest"
   ]
  },
  {
   "cell_type": "code",
   "execution_count": null,
   "metadata": {},
   "outputs": [],
   "source": [
    "def RF_class(X,Y,old_model=None):\n",
    "    #création d'un classifieur Random Forest\n",
    "    rf = RandomForestClassifier()\n",
    "    rf_params = {'n_estimators':[10, 100, 1000], 'max_depth':[None, 10, 100]}\n",
    "    rf_grid = GridSearchCV(rf, rf_params, cv=5)\n",
    "    rf_grid.fit(X, Y)\n",
    "    best_rf = rf_grid.best_estimator_\n",
    "\n",
    "    #enregistrement du modèle avec les meilleurs paramètres\n",
    "    #comparaison avec l'ancien modèle pour ne pas le remplacer si moins performant\n",
    "    if old_model == None:\n",
    "        joblib.dump(best_rf, 'models/rf_model.pkl')\n",
    "    else:\n",
    "        if old_model.score(X,Y) < best_rf.score(X,Y):\n",
    "            joblib.dump(best_rf, 'models/rf_model.pkl')\n",
    "\n",
    "\n",
    "    return best_rf\n"
   ]
  },
  {
   "attachments": {},
   "cell_type": "markdown",
   "metadata": {},
   "source": [
    "### Classification avec MLP"
   ]
  },
  {
   "cell_type": "code",
   "execution_count": null,
   "metadata": {},
   "outputs": [],
   "source": [
    "def MLP_class(X,Y,old_model=None):\n",
    "    #création d'un classifieur MLP\n",
    "    mlp = MLPClassifier()\n",
    "    mlp_params = {'hidden_layer_sizes':[(10,), (100,), (1000,)], 'activation':['relu', 'tanh', 'logistic']}\n",
    "    mlp_grid = GridSearchCV(mlp, mlp_params, cv=5)\n",
    "    mlp_grid.fit(X, Y)\n",
    "    best_mlp = mlp_grid.best_estimator_\n",
    "\n",
    "    #enregistrement du modèle avec les meilleurs paramètres\n",
    "    #comparaison avec l'ancien modèle pour ne pas le remplacer si moins performant\n",
    "    if old_model == None:\n",
    "        joblib.dump(best_mlp, 'models/mlp_model.pkl')\n",
    "    else:\n",
    "        if old_model.score(X,Y) < best_mlp.score(X,Y):\n",
    "            joblib.dump(best_mlp, 'models/mlp_model.pkl')\n",
    "\n",
    "    return best_mlp"
   ]
  },
  {
   "attachments": {},
   "cell_type": "markdown",
   "metadata": {},
   "source": [
    "### Fusion classifieurs"
   ]
  },
  {
   "cell_type": "code",
   "execution_count": null,
   "metadata": {},
   "outputs": [
    {
     "ename": "NameError",
     "evalue": "name 'best_svm' is not defined",
     "output_type": "error",
     "traceback": [
      "\u001b[1;31m---------------------------------------------------------------------------\u001b[0m",
      "\u001b[1;31mNameError\u001b[0m                                 Traceback (most recent call last)",
      "Cell \u001b[1;32mIn[18], line 4\u001b[0m\n\u001b[0;32m      1\u001b[0m \u001b[39m#fusion des classifieurs\u001b[39;00m\n\u001b[0;32m      2\u001b[0m \n\u001b[0;32m      3\u001b[0m \u001b[39m#vote majoritaire\u001b[39;00m\n\u001b[1;32m----> 4\u001b[0m voting_clf_maj \u001b[39m=\u001b[39m VotingClassifier(estimators\u001b[39m=\u001b[39m[(\u001b[39m'\u001b[39m\u001b[39msvm\u001b[39m\u001b[39m'\u001b[39m, best_svm), (\u001b[39m'\u001b[39m\u001b[39mrf\u001b[39m\u001b[39m'\u001b[39m, best_rf), (\u001b[39m'\u001b[39m\u001b[39mmlp\u001b[39m\u001b[39m'\u001b[39m, best_mlp)], voting\u001b[39m=\u001b[39m\u001b[39m'\u001b[39m\u001b[39mhard\u001b[39m\u001b[39m'\u001b[39m)\n\u001b[0;32m      5\u001b[0m voting_clf_maj\u001b[39m.\u001b[39mfit(X, Y)\n\u001b[0;32m      7\u001b[0m \u001b[39m#vote pondéré\u001b[39;00m\n",
      "\u001b[1;31mNameError\u001b[0m: name 'best_svm' is not defined"
     ]
    }
   ],
   "source": [
    "#fusion des classifieurs\n",
    "\n",
    "#vote majoritaire\n",
    "voting_clf_maj = VotingClassifier(estimators=[('svm', best_svm), ('rf', best_rf), ('mlp', best_mlp)], voting='hard')\n",
    "voting_clf_maj.fit(X, Y)\n",
    "\n",
    "#vote pondéré\n",
    "voting_clf_pond = VotingClassifier(estimators=[('svm', best_svm), ('rf', best_rf), ('mlp', best_mlp)], voting='soft')\n",
    "voting_clf_pond.fit(X, Y)\n",
    "\n",
    "#prediction sur un nouveau jeu de données (à modifier avec les jeux de données de test)\n",
    "X_pred = X_test\n",
    "\n",
    "#prediction vote majoritaire\n",
    "Y_pred_maj = voting_clf_maj.predict(X_test)\n",
    "\n",
    "#prediction vote pondéré\n",
    "Y_pred_pond = voting_clf_pond.predict(X_test)"
   ]
  }
 ],
 "metadata": {
  "kernelspec": {
   "display_name": "Python 3",
   "language": "python",
   "name": "python3"
  },
  "language_info": {
   "codemirror_mode": {
    "name": "ipython",
    "version": 3
   },
   "file_extension": ".py",
   "mimetype": "text/x-python",
   "name": "python",
   "nbconvert_exporter": "python",
   "pygments_lexer": "ipython3",
   "version": "3.11.2"
  },
  "orig_nbformat": 4
 },
 "nbformat": 4,
 "nbformat_minor": 2
}
