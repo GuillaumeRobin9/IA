{
 "cells": [
  {
   "cell_type": "code",
   "execution_count": 1,
   "metadata": {},
   "outputs": [],
   "source": [
    "import pandas as pd\n",
    "from sklearn.svm import SVC\n",
    "from sklearn.ensemble import RandomForestClassifier\n",
    "from sklearn.neural_network import MLPClassifier\n",
    "from sklearn.model_selection import GridSearchCV\n",
    "from sklearn.ensemble import VotingClassifier\n",
    "import joblib\n",
    "\n",
    "from sklearn.model_selection import train_test_split\n",
    "from sklearn.neighbors import KNeighborsClassifier\n",
    "from sklearn.metrics import accuracy_score\n",
    "from sklearn.model_selection import LeaveOneOut\n",
    "import numpy as np\n",
    "\n",
    "from statistics import mode\n",
    "\n",
    "\n",
    "#read the csv file\n",
    "df = pd.read_csv('data/stat_acc_V3_new.csv', sep=';')"
   ]
  },
  {
   "attachments": {},
   "cell_type": "markdown",
   "metadata": {},
   "source": [
    "### 1 - Répartition des données"
   ]
  },
  {
   "cell_type": "code",
   "execution_count": 2,
   "metadata": {},
   "outputs": [],
   "source": [
    "# Sélection des 5 attributs qui nous intéresses pour l'apprentissage\n",
    "df = df[['age', 'latitude', 'longitude','descr_athmo','descr_grav']]\n",
    "\n",
    "# initialisation des variables X et Y contenant la data et la target de notre base de donnée\n",
    "X = df.drop(['descr_grav'], axis=1)\n",
    "Y = df['descr_grav']\n",
    "\n",
    "# Séparation de la base de donnée en base de validation et d'entrainement\n",
    "X_train, X_val, y_train, y_val = train_test_split(X, Y, test_size=0.2, random_state=42)\n",
    "\n",
    "# Séparation de la base d'entrainement en base d'apprentissage et de validation\n",
    "#X_app, X_test, y_app, y_test = train_test_split(X_train, y_train, test_size=0.16, random_state=42)"
   ]
  },
  {
   "attachments": {},
   "cell_type": "markdown",
   "metadata": {},
   "source": [
    "Nous nous limitons donc ici à 5 attributs pour la base de données : ['age', 'latitude', 'longitude','descr_athmo','descr_grav'].\n",
    "Notre répartition est la suivante : base d'entraînement 80% et base de validation 20% \n",
    "Dans la suite nous allons donc diviser la base d'entraînement en base d'apprentissage et de test selon la répartition holdout et leave one out."
   ]
  },
  {
   "attachments": {},
   "cell_type": "markdown",
   "metadata": {},
   "source": [
    "Dans la suite X et Y vont correspondre à X_train et y_train."
   ]
  },
  {
   "cell_type": "code",
   "execution_count": 3,
   "metadata": {},
   "outputs": [],
   "source": [
    "X = X_train\n",
    "Y = y_train"
   ]
  },
  {
   "cell_type": "code",
   "execution_count": 4,
   "metadata": {},
   "outputs": [
    {
     "data": {
      "text/html": [
       "<div>\n",
       "<style scoped>\n",
       "    .dataframe tbody tr th:only-of-type {\n",
       "        vertical-align: middle;\n",
       "    }\n",
       "\n",
       "    .dataframe tbody tr th {\n",
       "        vertical-align: top;\n",
       "    }\n",
       "\n",
       "    .dataframe thead th {\n",
       "        text-align: right;\n",
       "    }\n",
       "</style>\n",
       "<table border=\"1\" class=\"dataframe\">\n",
       "  <thead>\n",
       "    <tr style=\"text-align: right;\">\n",
       "      <th></th>\n",
       "      <th>age</th>\n",
       "      <th>latitude</th>\n",
       "      <th>longitude</th>\n",
       "      <th>descr_athmo</th>\n",
       "    </tr>\n",
       "  </thead>\n",
       "  <tbody>\n",
       "    <tr>\n",
       "      <th>37295</th>\n",
       "      <td>51</td>\n",
       "      <td>43.8833</td>\n",
       "      <td>-0.500000</td>\n",
       "      <td>1</td>\n",
       "    </tr>\n",
       "    <tr>\n",
       "      <th>71390</th>\n",
       "      <td>56</td>\n",
       "      <td>42.6809</td>\n",
       "      <td>9.302510</td>\n",
       "      <td>1</td>\n",
       "    </tr>\n",
       "    <tr>\n",
       "      <th>51318</th>\n",
       "      <td>84</td>\n",
       "      <td>43.1000</td>\n",
       "      <td>5.883330</td>\n",
       "      <td>1</td>\n",
       "    </tr>\n",
       "    <tr>\n",
       "      <th>22545</th>\n",
       "      <td>50</td>\n",
       "      <td>43.6000</td>\n",
       "      <td>1.433330</td>\n",
       "      <td>1</td>\n",
       "    </tr>\n",
       "    <tr>\n",
       "      <th>36056</th>\n",
       "      <td>71</td>\n",
       "      <td>44.5000</td>\n",
       "      <td>0.966667</td>\n",
       "      <td>1</td>\n",
       "    </tr>\n",
       "  </tbody>\n",
       "</table>\n",
       "</div>"
      ],
      "text/plain": [
       "       age  latitude  longitude  descr_athmo\n",
       "37295   51   43.8833  -0.500000            1\n",
       "71390   56   42.6809   9.302510            1\n",
       "51318   84   43.1000   5.883330            1\n",
       "22545   50   43.6000   1.433330            1\n",
       "36056   71   44.5000   0.966667            1"
      ]
     },
     "execution_count": 4,
     "metadata": {},
     "output_type": "execute_result"
    }
   ],
   "source": [
    "X.head()"
   ]
  },
  {
   "cell_type": "code",
   "execution_count": 5,
   "metadata": {},
   "outputs": [
    {
     "data": {
      "text/plain": [
       "37295    1\n",
       "71390    1\n",
       "51318    3\n",
       "22545    1\n",
       "36056    3\n",
       "Name: descr_grav, dtype: int64"
      ]
     },
     "execution_count": 5,
     "metadata": {},
     "output_type": "execute_result"
    }
   ],
   "source": [
    "Y.head()"
   ]
  },
  {
   "attachments": {},
   "cell_type": "markdown",
   "metadata": {},
   "source": [
    "#### 1.1 - Holdout Répartition"
   ]
  },
  {
   "cell_type": "code",
   "execution_count": 6,
   "metadata": {},
   "outputs": [],
   "source": [
    "def holdout_repartition(X, Y, list, n):\n",
    "\n",
    "    # Répétition 5 fois de holdout split\n",
    "    for i in range(n):\n",
    "        # Division des données en ensembles d'apprentissage et de tests\n",
    "        X_app, X_test, y_app, y_test = train_test_split(X, Y, test_size=0.16, random_state=i)\n",
    "        \n",
    "        # Ajouter les ensembles d'apprentissage et de test à la liste\n",
    "        list.append((X_app, X_test, y_app, y_test))\n",
    "    "
   ]
  },
  {
   "cell_type": "code",
   "execution_count": 7,
   "metadata": {},
   "outputs": [],
   "source": [
    "# Initialisation de la liste\n",
    "holdout_app_test_sets = []\n",
    "\n",
    "# Nombre de répétitions de holdout split\n",
    "n = 5\n",
    "\n",
    "# Ececution de la fonction holdout_repartition\n",
    "holdout_repartition(X, Y, holdout_app_test_sets, n)"
   ]
  },
  {
   "attachments": {},
   "cell_type": "markdown",
   "metadata": {},
   "source": [
    "#### 1.2 - Leave One out Répartition"
   ]
  },
  {
   "cell_type": "code",
   "execution_count": 8,
   "metadata": {},
   "outputs": [],
   "source": [
    "def leaveoneout_repartition(X, Y, list):\n",
    "    \n",
    "    # Création de l'objet leave one out\n",
    "    loo = LeaveOneOut()\n",
    "    \n",
    "    for train_index, test_index in loo.split(leaveoneout_sample):     \n",
    "        # Ajouter les ensembles d'apprentissage et de test et d'apprentissage à la liste\n",
    "        list.append((X.iloc[train_index], X.iloc[test_index], Y.iloc[train_index], Y.iloc[test_index]))"
   ]
  },
  {
   "cell_type": "code",
   "execution_count": 9,
   "metadata": {},
   "outputs": [],
   "source": [
    "# Récupération de 10% des données de chaque niveau de gravité\n",
    "gravite_1 = df[df['descr_grav'] == 1].sample(frac=0.1, random_state=42)\n",
    "gravite_2 = df[df['descr_grav'] == 2].sample(frac=0.1, random_state=42)\n",
    "gravite_3 = df[df['descr_grav'] == 3].sample(frac=0.1, random_state=42)\n",
    "gravite_4 = df[df['descr_grav'] == 4].sample(frac=0.1, random_state=42)\n",
    "\n",
    "# Concaténation des échantillons sélectionnés\n",
    "leaveoneout_sample = pd.concat([gravite_1, gravite_2, gravite_3, gravite_4])\n",
    "\n",
    "#initialisation des variables X et Y du sample leaveoneout \n",
    "X_leaveoneout = df.drop(['descr_grav'], axis=1)\n",
    "Y_leaveoneout = df['descr_grav']\n",
    "\n",
    "# Initialisation de la liste\n",
    "leaveoneout_app_test_sets = []\n",
    "\n",
    "# Execution de leave one out\n",
    "leaveoneout_repartition(X_leaveoneout, Y_leaveoneout, leaveoneout_app_test_sets)"
   ]
  },
  {
   "cell_type": "code",
   "execution_count": 10,
   "metadata": {},
   "outputs": [],
   "source": [
    "# Liste pour stocker les valeurs d'accuracy\n",
    "accuracy_list = [] \n",
    "\n",
    "# Boucle faisant la prédiction et l'évaluation pour chaque répartition holdout\n",
    "for i, (X_app, X_test, y_app, y_test) in enumerate(leaveoneout_app_test_sets): \n",
    "   \n",
    "   # Création du modèle KNN\n",
    "   knn = KNeighborsClassifier(n_neighbors=5)\n",
    "\n",
    "   # Apprentissage du modèle KNN\n",
    "   knn.fit(X_app, y_app)\n",
    "\n",
    "   # Prédiction des données de test\n",
    "   y_pred = knn.predict(X_test)\n",
    "\n",
    "   # Evaluation de la prédiction\n",
    "   accuracy = accuracy_score(y_test, y_pred)\n",
    "   \n",
    "   # Ajout de l'accuracy à la liste\n",
    "   accuracy_list.append(accuracy) "
   ]
  },
  {
   "cell_type": "code",
   "execution_count": 11,
   "metadata": {},
   "outputs": [
    {
     "name": "stdout",
     "output_type": "stream",
     "text": [
      "Moyenne de l'accuracy : 0.36569799022270505\n",
      "Indice de le précision maximum dans la liste : 1\n"
     ]
    }
   ],
   "source": [
    "# Calcul de la moyenne des accuracy\n",
    "mean_accuracy = np.mean(accuracy_list)\n",
    "\n",
    "print(\"Moyenne de l'accuracy :\", mean_accuracy)\n",
    "\n",
    "# Récupération de l'indice correspondant à l'accuracy la plus grande dans la liste holdout_app_test_sets\n",
    "n_leaveoneout = np.argmax(accuracy_list)\n",
    "\n",
    "print(\"Indice de le précision maximum dans la liste :\", n_leaveoneout)"
   ]
  },
  {
   "attachments": {},
   "cell_type": "markdown",
   "metadata": {},
   "source": [
    "### 2 - Classification avec KNN"
   ]
  },
  {
   "attachments": {},
   "cell_type": "markdown",
   "metadata": {},
   "source": [
    "#### 2.1 - \"From scratch\""
   ]
  },
  {
   "cell_type": "code",
   "execution_count": null,
   "metadata": {},
   "outputs": [],
   "source": [
    "def distHamming(p1, p2):\n",
    "    return np.sum(p1 != p2,axis=1)\n",
    "\n",
    "def distManhattan(p1, p2):\n",
    "    return np.sum(np.abs(p1 - p2),axis=1)\n",
    "\n",
    "def predict_knn(X_train, y_train, X_test, k):\n",
    "    neighbors = []\n",
    "\n",
    "    for x in X_test.values:\n",
    "        distances = distManhattan(x, X_train)\n",
    "        #distances = distHamming(x, X_train)\n",
    "        y_sorted = [y for _, y in sorted(zip(distances, y_train))]\n",
    "        neighbors.append(list(y_sorted[:k]))\n",
    "    return [mode(n) for n in neighbors]\n",
    "\n",
    "df = pd.read_csv(\"data/stat_acc_V3_new.csv\", sep=\";\")\n",
    "#data = df.groupby(\"descr_grav\").apply(lambda x: x.sample(frac=0.1))\n",
    "selected_columns = ['age', 'latitude', 'longitude', 'descr_grav','descr_athmo','descr_cat_veh','descr_lum','descr_etat_surf']\n",
    "df_selected = df[selected_columns].copy()\n",
    "\n",
    "df_selected.dropna(inplace=True)\n",
    "X_train, X_test, y_train, y_test = train_test_split(df[['age', 'latitude', 'longitude', 'descr_athmo','descr_cat_veh','descr_lum','descr_etat_surf']],\n",
    "                                                    df['descr_grav'], test_size=0.2, random_state=42)\n",
    "k = 3\n",
    "y_pred = predict_knn(X_train, y_train, X_test, k)\n",
    "\n",
    "# TEST EVALUATION \n",
    "print(y_pred)\n",
    "accuracy_score(y_test, y_pred)\n",
    "\n",
    "\n",
    "# from sklearn.metrics import silhouette_score\n",
    "# silhouette_avg = silhouette_score(y_test, y_pred)\n",
    "# print(\"Silhouette Coefficient :\", silhouette_avg)\n",
    "\n",
    "# from sklearn.metrics import calinski_harabasz_score\n",
    "# ch_score = calinski_harabasz_score(y_test, y_pred)\n",
    "# print(\"Calinski-Harabasz Index :\", ch_score)\n",
    "\n",
    "# from sklearn.metrics import davies_bouldin_score\n",
    "# db_score = davies_bouldin_score(y_test, y_pred)\n",
    "# print(\"Davies-Bouldin Index :\", db_score)"
   ]
  },
  {
   "attachments": {},
   "cell_type": "markdown",
   "metadata": {},
   "source": [
    "#### 2.2 - Bibliothèque scikit-learn"
   ]
  },
  {
   "cell_type": "code",
   "execution_count": 12,
   "metadata": {},
   "outputs": [],
   "source": [
    "# Liste pour stocker les valeurs d'accuracy\n",
    "accuracy_list = [] \n",
    "\n",
    "# Boucle faisant la prédiction et l'évaluation pour chaque répartition holdout\n",
    "for i in range(5):   \n",
    "   # Accès aux bases provenants de la répartition holdout\n",
    "   X_app, X_test, y_app, y_test = holdout_app_test_sets[i]\n",
    "   \n",
    "   # Création du modèle KNN\n",
    "   knn = KNeighborsClassifier(n_neighbors=5)\n",
    "\n",
    "   # Apprentissage du modèle KNN\n",
    "   knn.fit(X_app, y_app)\n",
    "\n",
    "   # Prédiction des données de test\n",
    "   y_pred = knn.predict(X_test)\n",
    "\n",
    "   # Evaluation de la prédiction\n",
    "   accuracy = accuracy_score(y_test, y_pred)\n",
    "   \n",
    "   # Ajout de l'accuracy à la liste\n",
    "   accuracy_list.append(accuracy) "
   ]
  },
  {
   "cell_type": "code",
   "execution_count": 13,
   "metadata": {},
   "outputs": [
    {
     "name": "stdout",
     "output_type": "stream",
     "text": [
      "Moyenne de l'accuracy : 0.4227668151920221\n",
      "1\n"
     ]
    }
   ],
   "source": [
    "# Calcul de la moyenne des accuracy\n",
    "mean_accuracy = np.mean(accuracy_list)\n",
    "\n",
    "print(\"Moyenne de l'accuracy :\", mean_accuracy)\n",
    "\n",
    "# Récupération de l'indice correspondant à l'accuracy la plus grande dans la liste holdout_app_test_sets\n",
    "n = np.argmax(accuracy_list)\n",
    "\n",
    "print(n)"
   ]
  },
  {
   "attachments": {},
   "cell_type": "markdown",
   "metadata": {},
   "source": [
    "### 3 - Classification avec trois algorithmes de « haut niveau »"
   ]
  },
  {
   "attachments": {},
   "cell_type": "markdown",
   "metadata": {},
   "source": [
    "#### 3.1 - Classification avec SVM"
   ]
  },
  {
   "cell_type": "code",
   "execution_count": 31,
   "metadata": {},
   "outputs": [],
   "source": [
    "def SVM_class(X,Y,old_model=None):\n",
    "    #création d'un classifieur SVM\n",
    "    svm = SVC()\n",
    "    svm_params = {'kernel':('sigmoid', 'rbf'), 'C':[1, 10]}\n",
    "    \n",
    "    #aram_grid = {\n",
    "    #    'C': [0.1, 1, 10, 100, 500, 1000, 2000, 5000, 10000], \n",
    "    #    'gamma': [1, 0.1, 0.01, 0.001, 0.0001, 0.00001]\n",
    "    #}\n",
    "    \n",
    "    #svm_params = {'C': [1, 2]}\n",
    "    \n",
    "    #Initiation des paramètre possible\n",
    "    #svm_params={                                                                     \n",
    "    #        'C': [0.1, 1, 10, 100, 1000],\n",
    "    #        'epsilon': [0.0001, 0.0005,  0.001, 0.005,  0.01, 0.05, 1, 5, 10],\n",
    "    #        'gamma': [0.0001, 0.0005,  0.001, 0.005,  0.01, 0.05, 1, 5, 10]\n",
    "    #}\n",
    "    \n",
    "    svm_grid = GridSearchCV(svm, svm_params, cv=3, n_jobs=4)\n",
    "    svm_grid.fit(X, Y)\n",
    "    best_svm = svm_grid.best_estimator_\n",
    "\n",
    "    #enregistrement du modèle avec les meilleurs paramètres\n",
    "    #comparaison avec l'ancien modèle pour ne pas le remplacer si moins performant\n",
    "    if old_model == None:\n",
    "        joblib.dump(best_svm, 'models/svm_model.pkl')\n",
    "    else:\n",
    "        if old_model.score(X,Y) < best_svm.score(X,Y):\n",
    "            joblib.dump(best_svm, 'models/svm_model.pkl')\n",
    "    # retourne le meilleur modèle\n",
    "    return best_svm"
   ]
  },
  {
   "cell_type": "code",
   "execution_count": 32,
   "metadata": {},
   "outputs": [],
   "source": [
    "# Accès à la répartition provenants de la répartition holdout\n",
    "X_app, X_test, y_app, y_test = holdout_app_test_sets[n]\n",
    "\n",
    "# Récupération d'échantillons du dataset\n",
    "X_app_sample = X_app.sample(frac=0.001, random_state=42)\n",
    "X_test_sample = X_test.sample(frac=0.001, random_state=42)\n",
    "y_app_sample = y_app.sample(frac=0.001, random_state=42)\n",
    "y_test_sample = y_test.sample(frac=0.001, random_state=42)"
   ]
  },
  {
   "cell_type": "code",
   "execution_count": 33,
   "metadata": {},
   "outputs": [],
   "source": [
    "# Initialisation du modèle \n",
    "best_svm = None\n",
    "\n",
    "# Selection du meilleur modèle SVM\n",
    "best_svm = SVM_class(X_app, y_app, best_svm)"
   ]
  },
  {
   "attachments": {},
   "cell_type": "markdown",
   "metadata": {},
   "source": [
    "#### 3.2 - Classification avec Random Forest"
   ]
  },
  {
   "cell_type": "code",
   "execution_count": 26,
   "metadata": {},
   "outputs": [],
   "source": [
    "def RF_class(X,Y,old_model=None):\n",
    "    #création d'un classifieur Random Forest\n",
    "    rf = RandomForestClassifier()\n",
    "    rf_params = {'n_estimators':[10, 100, 1000], 'max_depth':[None, 10, 100]}\n",
    "    #rf_params = {'n_estimators': [10, 100], 'max_depth': [None, 10]}\n",
    "    rf_grid = GridSearchCV(rf, rf_params, cv=5)\n",
    "    #rf_grid = GridSearchCV(rf, rf_params, cv=3)\n",
    "    rf_grid.fit(X, Y)\n",
    "    best_rf = rf_grid.best_estimator_\n",
    "\n",
    "    #enregistrement du modèle avec les meilleurs paramètres\n",
    "    #comparaison avec l'ancien modèle pour ne pas le remplacer si moins performant\n",
    "    if old_model == None:\n",
    "        joblib.dump(best_rf, 'models/rf_model.pkl')\n",
    "    else:\n",
    "        if old_model.score(X,Y) < best_rf.score(X,Y):\n",
    "            joblib.dump(best_rf, 'models/rf_model.pkl')\n",
    "\n",
    "\n",
    "    return best_rf"
   ]
  },
  {
   "cell_type": "code",
   "execution_count": 27,
   "metadata": {},
   "outputs": [],
   "source": [
    "# Initialisation du modèle \n",
    "best_rf = None\n",
    "\n",
    "# Selection du meilleur modèle SVM\n",
    "best_rf = RF_class(X_app, y_app, best_rf)"
   ]
  },
  {
   "attachments": {},
   "cell_type": "markdown",
   "metadata": {},
   "source": [
    "#### 3.3 - Classification avec MLP"
   ]
  },
  {
   "cell_type": "code",
   "execution_count": 35,
   "metadata": {},
   "outputs": [],
   "source": [
    "def MLP_class(X,Y,old_model=None):\n",
    "    #création d'un classifieur MLP\n",
    "    mlp = MLPClassifier()\n",
    "    #mlp_params = {'hidden_layer_sizes':[(10,), (100,), (1000,)], 'activation':['relu', 'tanh', 'logistic']}\n",
    "    mlp_params = {'hidden_layer_sizes': [(10,), (100,)], 'activation': ['relu', 'tanh']}\n",
    "    mlp_grid = GridSearchCV(mlp, mlp_params, cv=5)\n",
    "    mlp_grid.fit(X, Y)\n",
    "    best_mlp = mlp_grid.best_estimator_\n",
    "\n",
    "    #enregistrement du modèle avec les meilleurs paramètres\n",
    "    #comparaison avec l'ancien modèle pour ne pas le remplacer si moins performant\n",
    "    if old_model == None:\n",
    "        joblib.dump(best_mlp, 'models/mlp_model.pkl')\n",
    "    else:\n",
    "        if old_model.score(X,Y) < best_mlp.score(X,Y):\n",
    "            joblib.dump(best_mlp, 'models/mlp_model.pkl')\n",
    "\n",
    "    return best_mlp"
   ]
  },
  {
   "cell_type": "code",
   "execution_count": 36,
   "metadata": {},
   "outputs": [],
   "source": [
    "# Initialisation du modèle \n",
    "best_mlp = None\n",
    "\n",
    "# Selection du meilleur modèle SVM\n",
    "best_mlp = MLP_class(X_app, y_app, best_mlp)"
   ]
  },
  {
   "attachments": {},
   "cell_type": "markdown",
   "metadata": {},
   "source": [
    "#### 3.4 - Fusion classifieurs"
   ]
  },
  {
   "cell_type": "code",
   "execution_count": 37,
   "metadata": {},
   "outputs": [],
   "source": [
    "#fusion des classifieurs\n",
    "\n",
    "#vote majoritaire\n",
    "voting_clf_maj = VotingClassifier(estimators=[('svm', best_svm), ('rf', best_rf), ('mlp', best_mlp)], voting='hard')\n",
    "voting_clf_maj.fit(X, Y)\n",
    "\n",
    "#vote pondéré\n",
    "voting_clf_pond = VotingClassifier(estimators=[('svm', best_svm), ('rf', best_rf), ('mlp', best_mlp)], voting='soft')\n",
    "voting_clf_pond.fit(X, Y)\n",
    "\n",
    "#prediction sur un nouveau jeu de données (à modifier avec les jeux de données de test)\n",
    "X_pred = X_test\n",
    "\n",
    "#prediction vote majoritaire\n",
    "Y_pred_maj = voting_clf_maj.predict(X_test)\n",
    "\n",
    "#prediction vote pondéré\n",
    "Y_pred_pond = voting_clf_pond.predict(X_test)"
   ]
  },
  {
   "attachments": {},
   "cell_type": "markdown",
   "metadata": {},
   "source": [
    "### 4 - Évaluation quantitative des résultats « supervisé »"
   ]
  },
  {
   "attachments": {},
   "cell_type": "markdown",
   "metadata": {},
   "source": [
    "#### 4.1 - Taux d’apprentissage"
   ]
  },
  {
   "cell_type": "code",
   "execution_count": null,
   "metadata": {},
   "outputs": [],
   "source": []
  },
  {
   "attachments": {},
   "cell_type": "markdown",
   "metadata": {},
   "source": [
    "#### 4.2 - Matrice de confusion\n",
    " "
   ]
  },
  {
   "cell_type": "code",
   "execution_count": null,
   "metadata": {},
   "outputs": [],
   "source": []
  },
  {
   "attachments": {},
   "cell_type": "markdown",
   "metadata": {},
   "source": [
    "#### 4.3 - Précision/Rappel"
   ]
  },
  {
   "cell_type": "code",
   "execution_count": null,
   "metadata": {},
   "outputs": [],
   "source": []
  },
  {
   "attachments": {},
   "cell_type": "markdown",
   "metadata": {},
   "source": [
    "#### 4.4 - Courbe ROC"
   ]
  },
  {
   "cell_type": "code",
   "execution_count": null,
   "metadata": {},
   "outputs": [],
   "source": []
  }
 ],
 "metadata": {
  "kernelspec": {
   "display_name": "Python 3",
   "language": "python",
   "name": "python3"
  },
  "language_info": {
   "codemirror_mode": {
    "name": "ipython",
    "version": 3
   },
   "file_extension": ".py",
   "mimetype": "text/x-python",
   "name": "python",
   "nbconvert_exporter": "python",
   "pygments_lexer": "ipython3",
   "version": "3.11.2"
  },
  "orig_nbformat": 4
 },
 "nbformat": 4,
 "nbformat_minor": 2
}
