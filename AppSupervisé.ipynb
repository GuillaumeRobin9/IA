{
 "cells": [
  {
   "cell_type": "code",
   "execution_count": null,
   "metadata": {},
   "outputs": [],
   "source": [
    "import pandas as pd\n",
    "from sklearn.svm import SVC\n",
    "from sklearn.ensemble import RandomForestClassifier\n",
    "from sklearn.neural_network import MLPClassifier\n",
    "from sklearn.model_selection import GridSearchCV\n",
    "from sklearn.ensemble import VotingClassifier\n",
    "from sklearn.externals import joblib\n",
    "\n",
    "\n",
    "#read the csv file\n",
    "df = pd.read_csv('data/stat_acc_V3_new.csv', sep=';')\n",
    "\n",
    "#initialisation des variables X et Y (à modifier avec les jeux de données d'apprentissage)\n",
    "X = df.drop(['descr_grav'], axis=1)\n",
    "Y = df['descr_grav']"
   ]
  },
  {
   "attachments": {},
   "cell_type": "markdown",
   "metadata": {},
   "source": [
    "### Classification avec SVM"
   ]
  },
  {
   "cell_type": "code",
   "execution_count": null,
   "metadata": {},
   "outputs": [],
   "source": [
    "#création d'un classifieur SVM\n",
    "svm = SVC()\n",
    "svm_params = {'kernel':('linear', 'rbf'), 'C':[1, 10]}\n",
    "svm_grid = GridSearchCV(svm, svm_params, cv=5)\n",
    "svm_grid.fit(X, Y)\n",
    "best_svm = svm_grid.best_estimator_\n",
    "\n",
    "#enregistrement des meilleurs paramètres\n",
    "print(\"Meilleurs paramètres SVM : \", svm_grid.best_params_)\n",
    "\n",
    "#enregistrement du modèle avec les meilleurs paramètres\n",
    "joblib.dump(best_svm, 'models/svm.pkl')\n"
   ]
  },
  {
   "attachments": {},
   "cell_type": "markdown",
   "metadata": {},
   "source": [
    "### Classification avec Random Forest"
   ]
  },
  {
   "cell_type": "code",
   "execution_count": null,
   "metadata": {},
   "outputs": [],
   "source": [
    "#création d'un classifieur Random Forest\n",
    "rf = RandomForestClassifier()\n",
    "rf_params = {'n_estimators':[10, 100, 1000], 'max_depth':[None, 10, 100]}\n",
    "rf_grid = GridSearchCV(rf, rf_params, cv=5)\n",
    "rf_grid.fit(X, Y)\n",
    "best_rf = rf_grid.best_estimator_\n",
    "\n",
    "#enregistrement des meilleurs paramètres\n",
    "print(\"Meilleurs paramètres Random Forest : \", rf_grid.best_params_)\n",
    "\n",
    "#enregistrement du modèle avec les meilleurs paramètres\n",
    "joblib.dump(best_rf, 'models/rf.pkl')"
   ]
  },
  {
   "attachments": {},
   "cell_type": "markdown",
   "metadata": {},
   "source": [
    "### Classification avec MLP"
   ]
  },
  {
   "cell_type": "code",
   "execution_count": null,
   "metadata": {},
   "outputs": [],
   "source": [
    "#création d'un classifieur MLP\n",
    "mlp = MLPClassifier()\n",
    "mlp_params = {'hidden_layer_sizes':[(10,), (100,), (1000,)], 'activation':['relu', 'tanh', 'logistic']}\n",
    "mlp_grid = GridSearchCV(mlp, mlp_params, cv=5)\n",
    "mlp_grid.fit(X, Y)\n",
    "best_mlp = mlp_grid.best_estimator_\n",
    "\n",
    "#enregistrement des meilleurs paramètres\n",
    "print(\"Meilleurs paramètres MLP : \", mlp_grid.best_params_)\n",
    "\n",
    "#enregistrement du modèle avec les meilleurs paramètres\n",
    "joblib.dump(best_mlp, 'models/mlp.pkl')"
   ]
  },
  {
   "attachments": {},
   "cell_type": "markdown",
   "metadata": {},
   "source": [
    "### Fusion classifieurs"
   ]
  },
  {
   "cell_type": "code",
   "execution_count": null,
   "metadata": {},
   "outputs": [],
   "source": [
    "#fusion des classifieurs\n",
    "\n",
    "#vote majoritaire\n",
    "voting_clf = VotingClassifier(estimators=[('svm', best_svm), ('rf', best_rf), ('mlp', best_mlp)], voting='hard')\n",
    "voting_clf.fit(X, Y)\n",
    "\n",
    "#vote pondéré\n",
    "voting_clf = VotingClassifier(estimators=[('svm', best_svm), ('rf', best_rf), ('mlp', best_mlp)], voting='soft')\n",
    "voting_clf.fit(X, Y)\n",
    "\n",
    "#prediction sur un nouveau jeu de données (à modifier avec les jeux de données de test)\n",
    "X_pred = df.drop(['descr_grav'], axis=1)\n",
    "Y_pred = voting_clf.predict(X_pred)"
   ]
  }
 ],
 "metadata": {
  "kernelspec": {
   "display_name": "Python 3",
   "language": "python",
   "name": "python3"
  },
  "language_info": {
   "codemirror_mode": {
    "name": "ipython",
    "version": 3
   },
   "file_extension": ".py",
   "mimetype": "text/x-python",
   "name": "python",
   "nbconvert_exporter": "python",
   "pygments_lexer": "ipython3",
   "version": "3.11.2"
  },
  "orig_nbformat": 4
 },
 "nbformat": 4,
 "nbformat_minor": 2
}
